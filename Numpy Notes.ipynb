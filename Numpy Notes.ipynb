{
 "cells": [
  {
   "cell_type": "markdown",
   "id": "00633410",
   "metadata": {},
   "source": [
    "#                        !-Revivision Of NumPy-!\n"
   ]
  },
  {
   "cell_type": "code",
   "execution_count": 1,
   "id": "d20c9fd1",
   "metadata": {},
   "outputs": [],
   "source": [
    "#importing the numpy"
   ]
  },
  {
   "cell_type": "code",
   "execution_count": 2,
   "id": "f470791c",
   "metadata": {},
   "outputs": [],
   "source": [
    "import numpy as np"
   ]
  },
  {
   "cell_type": "code",
   "execution_count": 3,
   "id": "350a10e6",
   "metadata": {},
   "outputs": [
    {
     "name": "stdout",
     "output_type": "stream",
     "text": [
      "[1, 2, 3, 4, 5, 6, 7]\n",
      "<class 'list'>\n"
     ]
    }
   ],
   "source": [
    "lst=[1,2,3,4,5,6,7]  #Initializing a List\n",
    "print(lst)\n",
    "print(type(lst))"
   ]
  },
  {
   "cell_type": "code",
   "execution_count": 4,
   "id": "ca788076",
   "metadata": {},
   "outputs": [
    {
     "name": "stdout",
     "output_type": "stream",
     "text": [
      "[1 2 3 4 5 6 7]\n",
      "<class 'numpy.ndarray'>\n"
     ]
    }
   ],
   "source": [
    "arr=np.array(lst)    #Converting a List into an Array\n",
    "arr                  #Printing the arr\n",
    "print(arr)           #printing the arr\n",
    "print(type(arr))"
   ]
  },
  {
   "cell_type": "code",
   "execution_count": 5,
   "id": "d921e666",
   "metadata": {},
   "outputs": [
    {
     "data": {
      "text/plain": [
       "array([1, 2, 3, 4, 5, 6, 7])"
      ]
     },
     "execution_count": 5,
     "metadata": {},
     "output_type": "execute_result"
    }
   ],
   "source": [
    "arr=np.array(lst,ndmin=1) #One dimension array will print, we can easily see it by []\n",
    "arr\n"
   ]
  },
  {
   "cell_type": "code",
   "execution_count": 6,
   "id": "cc58e3c2",
   "metadata": {},
   "outputs": [
    {
     "data": {
      "text/plain": [
       "array([[1, 2, 3, 4, 5, 6, 7]])"
      ]
     },
     "execution_count": 6,
     "metadata": {},
     "output_type": "execute_result"
    }
   ],
   "source": [
    "arr=np.array(lst,ndmin=2) #Two dimension array will print, we can easily see it by [[]]\n",
    "arr"
   ]
  },
  {
   "cell_type": "markdown",
   "id": "f4b6744a",
   "metadata": {},
   "source": [
    "# **1.Arange Function**"
   ]
  },
  {
   "cell_type": "code",
   "execution_count": 7,
   "id": "50e8abf1",
   "metadata": {},
   "outputs": [
    {
     "name": "stdout",
     "output_type": "stream",
     "text": [
      "[1 2 3 4 5 6 7 8 9]\n"
     ]
    },
    {
     "data": {
      "text/plain": [
       "9"
      ]
     },
     "execution_count": 7,
     "metadata": {},
     "output_type": "execute_result"
    }
   ],
   "source": [
    "Ar=np.arange(1,10) #Return the array with equal Interval arange(Start,Stop,Step)\n",
    "Ar\n",
    "print(Ar)\n",
    "len(Ar)            #Lenght of the array"
   ]
  },
  {
   "cell_type": "code",
   "execution_count": 8,
   "id": "0bbc6734",
   "metadata": {},
   "outputs": [
    {
     "name": "stdout",
     "output_type": "stream",
     "text": [
      "1\n",
      "2\n",
      "3\n",
      "4\n",
      "5\n",
      "6\n",
      "7\n",
      "8\n",
      "9\n"
     ]
    }
   ],
   "source": [
    "for i in range(1,10):  # here we printing the numbers the elements of (1 to 10) using foor loop. It will print all the elements except the last one i.e,10\n",
    "    print(i)\n",
    "                  "
   ]
  },
  {
   "cell_type": "markdown",
   "id": "d8e08d2b",
   "metadata": {},
   "source": [
    "# **2.Multidimensional Array**"
   ]
  },
  {
   "cell_type": "code",
   "execution_count": 9,
   "id": "8d63e3da",
   "metadata": {},
   "outputs": [
    {
     "name": "stdout",
     "output_type": "stream",
     "text": [
      "[[ 1  2  3  4]\n",
      " [ 5  6  7  8]\n",
      " [ 2  4  6  8]\n",
      " [ 3  6  9 12]]\n",
      "Lenght of the Multidiminisional Array : 4\n"
     ]
    }
   ],
   "source": [
    "Marr=np.array([[1,2,3,4],[5,6,7,8],[2,4,6,8],[3,6,9,12]]) #Creating Multidmisional Array\n",
    "Marr\n",
    "print(Marr)\n",
    "print(\"Lenght of the Multidiminisional Array :\",len(Marr)) "
   ]
  },
  {
   "cell_type": "markdown",
   "id": "9577e44d",
   "metadata": {},
   "source": [
    "# **3.Size Function**"
   ]
  },
  {
   "cell_type": "code",
   "execution_count": 10,
   "id": "46bd3a2b",
   "metadata": {},
   "outputs": [
    {
     "name": "stdout",
     "output_type": "stream",
     "text": [
      "Total  : 16\n",
      "Rows   : 4\n",
      "Columns: 4\n"
     ]
    }
   ],
   "source": [
    "print(\"Total  :\",Marr.size)    #It will return the total lenght of the Array\n",
    "print(\"Rows   :\",np.size(Marr,0))   #It will return the total no of Rows\n",
    "print(\"Columns:\",np.size(Marr,1))   #It will return the total no of column"
   ]
  },
  {
   "cell_type": "markdown",
   "id": "0d4e72cc",
   "metadata": {},
   "source": [
    "# **4.Shape Function**"
   ]
  },
  {
   "cell_type": "code",
   "execution_count": 11,
   "id": "8d0c9385",
   "metadata": {},
   "outputs": [
    {
     "data": {
      "text/plain": [
       "(4, 4)"
      ]
     },
     "execution_count": 11,
     "metadata": {},
     "output_type": "execute_result"
    }
   ],
   "source": [
    "Marr.shape #Shape will return the total NO. of rows and Columns"
   ]
  },
  {
   "cell_type": "markdown",
   "id": "864f4b79",
   "metadata": {},
   "source": [
    "# **5.Dtype Function**"
   ]
  },
  {
   "cell_type": "code",
   "execution_count": 12,
   "id": "3687b3f1",
   "metadata": {},
   "outputs": [
    {
     "name": "stdout",
     "output_type": "stream",
     "text": [
      "int32\n",
      "float64\n"
     ]
    }
   ],
   "source": [
    "arr=np.array([1,6,8,4,2])  #informs us about the layout of the Array\n",
    "farr=np.array([1.1,6.4,8.1,4.0,2.5])\n",
    "print(arr.dtype)                    \n",
    "print(farr.dtype)"
   ]
  },
  {
   "cell_type": "markdown",
   "id": "f0ae75db",
   "metadata": {},
   "source": [
    "# **6.Ndim Function**"
   ]
  },
  {
   "cell_type": "code",
   "execution_count": 13,
   "id": "c5be9cd4",
   "metadata": {},
   "outputs": [],
   "source": [
    "# numpy.ndarray.ndim() this will return the dimension of the array"
   ]
  },
  {
   "cell_type": "code",
   "execution_count": 14,
   "id": "b8fea44b",
   "metadata": {},
   "outputs": [
    {
     "name": "stdout",
     "output_type": "stream",
     "text": [
      "1\n",
      "2\n"
     ]
    }
   ],
   "source": [
    "arr1=np.array([1,2,5,7,8])\n",
    "arr2=np.array([[5,8,0,3],[1,7,0,4]])\n",
    "print(arr1.ndim)\n",
    "print(arr2.ndim)\n"
   ]
  },
  {
   "cell_type": "markdown",
   "id": "f2f9f3fa",
   "metadata": {},
   "source": [
    "# **7.Zero Function**"
   ]
  },
  {
   "cell_type": "code",
   "execution_count": 15,
   "id": "6dc4d719",
   "metadata": {},
   "outputs": [
    {
     "data": {
      "text/plain": [
       "array([[0., 0., 0., 0., 0.],\n",
       "       [0., 0., 0., 0., 0.],\n",
       "       [0., 0., 0., 0., 0.]])"
      ]
     },
     "execution_count": 15,
     "metadata": {},
     "output_type": "execute_result"
    }
   ],
   "source": [
    "np.zeros(shape=(3,5)) # this Function will return the number of zeros of (3x5)"
   ]
  },
  {
   "cell_type": "markdown",
   "id": "46c3d819",
   "metadata": {},
   "source": [
    "# **8.Ones Function**"
   ]
  },
  {
   "cell_type": "code",
   "execution_count": 16,
   "id": "c3011916",
   "metadata": {},
   "outputs": [
    {
     "data": {
      "text/plain": [
       "array([[1., 1., 1., 1., 1., 1.],\n",
       "       [1., 1., 1., 1., 1., 1.],\n",
       "       [1., 1., 1., 1., 1., 1.],\n",
       "       [1., 1., 1., 1., 1., 1.],\n",
       "       [1., 1., 1., 1., 1., 1.]])"
      ]
     },
     "execution_count": 16,
     "metadata": {},
     "output_type": "execute_result"
    }
   ],
   "source": [
    "np.ones(shape=(5,6))  ## this Function will return the number of Ones of (3x5)"
   ]
  },
  {
   "cell_type": "markdown",
   "id": "323c1a0b",
   "metadata": {},
   "source": [
    "# **9.Eye Function**"
   ]
  },
  {
   "cell_type": "code",
   "execution_count": 17,
   "id": "e7896607",
   "metadata": {},
   "outputs": [
    {
     "data": {
      "text/plain": [
       "array([[1, 0],\n",
       "       [0, 1]])"
      ]
     },
     "execution_count": 17,
     "metadata": {},
     "output_type": "execute_result"
    }
   ],
   "source": [
    "np.eye(2,dtype=int)"
   ]
  },
  {
   "cell_type": "markdown",
   "id": "3797d7d7",
   "metadata": {},
   "source": [
    "# **10.Empty Function**"
   ]
  },
  {
   "cell_type": "code",
   "execution_count": 18,
   "id": "441b05c3",
   "metadata": {},
   "outputs": [
    {
     "data": {
      "text/plain": [
       "array([[6.23042070e-307, 3.56043053e-307, 1.37961641e-306,\n",
       "        9.45695435e-308, 1.11258854e-306],\n",
       "       [1.11261502e-306, 1.42410839e-306, 7.56597770e-307,\n",
       "        6.23059726e-307, 1.42419530e-306],\n",
       "       [7.56602523e-307, 1.29061821e-306, 1.37961234e-306,\n",
       "        9.34598926e-307, 1.33511562e-306],\n",
       "       [9.34600963e-307, 8.45559303e-307, 9.45697982e-308,\n",
       "        1.33511562e-306, 8.90103560e-307],\n",
       "       [1.42410974e-306, 1.00132228e-307, 1.33511018e-306,\n",
       "        1.69119330e-306, 1.23309183e+046]])"
      ]
     },
     "execution_count": 18,
     "metadata": {},
     "output_type": "execute_result"
    }
   ],
   "source": [
    "np.empty(shape = (5,5))"
   ]
  },
  {
   "cell_type": "markdown",
   "id": "48bdbaa5",
   "metadata": {},
   "source": [
    "# **11.Random**"
   ]
  },
  {
   "cell_type": "code",
   "execution_count": 19,
   "id": "326b540d",
   "metadata": {},
   "outputs": [
    {
     "data": {
      "text/plain": [
       "array([6, 5, 8, 6, 8, 6, 7, 7, 7, 8, 7, 6, 5, 5, 8])"
      ]
     },
     "execution_count": 19,
     "metadata": {},
     "output_type": "execute_result"
    }
   ],
   "source": [
    "np.random.randint(low=5,high=9,size=15)"
   ]
  },
  {
   "cell_type": "code",
   "execution_count": 20,
   "id": "c2652eb0",
   "metadata": {},
   "outputs": [
    {
     "data": {
      "text/plain": [
       "array([[0.73419749, 0.45052507, 0.05210508, 0.55514345],\n",
       "       [0.49742137, 0.84844502, 0.2338717 , 0.53919423],\n",
       "       [0.74379271, 0.61387301, 0.56452058, 0.08301281],\n",
       "       [0.92578414, 0.8926419 , 0.04166841, 0.40052393]])"
      ]
     },
     "execution_count": 20,
     "metadata": {},
     "output_type": "execute_result"
    }
   ],
   "source": [
    "np.random.rand(4,4)"
   ]
  },
  {
   "cell_type": "code",
   "execution_count": 21,
   "id": "6d4b4f86",
   "metadata": {},
   "outputs": [
    {
     "data": {
      "text/plain": [
       "array([ 0.37211579,  0.14254055,  1.50708505,  1.64025062, -1.32898956,\n",
       "        0.72423305, -0.48461496, -0.50610215, -2.17043489,  0.69701166,\n",
       "        0.34221252,  0.59643406, -2.22561661,  0.63797932,  1.71068933,\n",
       "        0.46954834, -0.31120488,  0.40374067, -1.42486079, -0.46497267,\n",
       "       -0.98731937, -0.48077931,  0.36171431,  1.99126555,  1.60317226,\n",
       "        0.24957009,  0.76444008, -1.3155809 , -0.36783149,  1.68570207,\n",
       "       -0.68503415,  1.2773122 ,  0.23156701,  2.32297976, -1.38124335,\n",
       "        1.6050706 , -0.39303282,  1.35244583, -1.04564791, -1.13045576])"
      ]
     },
     "execution_count": 21,
     "metadata": {},
     "output_type": "execute_result"
    }
   ],
   "source": [
    "np.random.randn(40)"
   ]
  },
  {
   "cell_type": "code",
   "execution_count": 22,
   "id": "04c6ecc4",
   "metadata": {},
   "outputs": [
    {
     "data": {
      "image/png": "[encoded data removed]",
      "text/plain": [
       "<Figure size 640x480 with 1 Axes>"
      ]
     },
     "metadata": {},
     "output_type": "display_data"
    }
   ],
   "source": [
    "import matplotlib.pyplot as plt\n",
    "%matplotlib inline\n",
    "plt.hist(np.random.randn(10000000),bins = 1000);"
   ]
  },
  {
   "cell_type": "markdown",
   "id": "cd5168d4",
   "metadata": {},
   "source": [
    "# **Reshape Function**"
   ]
  },
  {
   "cell_type": "code",
   "execution_count": 23,
   "id": "b6df81a7",
   "metadata": {},
   "outputs": [
    {
     "name": "stdout",
     "output_type": "stream",
     "text": [
      "(3, 4)\n",
      "(4, 3)\n",
      "(3, 4)\n",
      "(6, 2)\n"
     ]
    }
   ],
   "source": [
    "k=np.random.randint(1,4,(3,4))\n",
    "print(k.shape)\n",
    "k=k.reshape(4,3)\n",
    "print(k.shape)\n",
    "k=k.reshape(3,4)\n",
    "print(k.shape)\n",
    "k=k.reshape(6,2)\n",
    "print(k.shape)\n",
    "\n",
    "\n",
    "\n"
   ]
  },
  {
   "cell_type": "markdown",
   "id": "8b04859c",
   "metadata": {},
   "source": [
    "# ***Linespace Function**"
   ]
  },
  {
   "cell_type": "code",
   "execution_count": 24,
   "id": "e5da90a9",
   "metadata": {},
   "outputs": [
    {
     "name": "stdout",
     "output_type": "stream",
     "text": [
      "[ 1  3  5  7 10]\n"
     ]
    }
   ],
   "source": [
    "k=np.linspace(1,10,5,dtype=int)  #the linespace is define as numpy.linspace(start,end ,no. of element)\n",
    "print(k)               # here you can see clerly we have 2.5 difference between each number ,we can even give dtype to it"
   ]
  },
  {
   "cell_type": "code",
   "execution_count": 25,
   "id": "4e130bd6",
   "metadata": {},
   "outputs": [],
   "source": [
    "#flateen Function"
   ]
  },
  {
   "cell_type": "code",
   "execution_count": 26,
   "id": "b3062957",
   "metadata": {},
   "outputs": [
    {
     "name": "stdout",
     "output_type": "stream",
     "text": [
      "[[ 4  4 10 12]\n",
      " [ 1 14  9 12]\n",
      " [12 14 11  2]]\n",
      "(3, 4)\n",
      "[ 4  4 10 12  1 14  9 12 12 14 11  2]\n"
     ]
    }
   ],
   "source": [
    "imp=np.random.randint(1,15,(3,4))\n",
    "print(imp)\n",
    "print(imp.shape)\n",
    "imp=imp.flatten()\n",
    "print(imp)"
   ]
  },
  {
   "cell_type": "code",
   "execution_count": 27,
   "id": "8514066c",
   "metadata": {},
   "outputs": [],
   "source": [
    "#copy function "
   ]
  },
  {
   "cell_type": "code",
   "execution_count": 28,
   "id": "c89dac0d",
   "metadata": {},
   "outputs": [
    {
     "name": "stdout",
     "output_type": "stream",
     "text": [
      "[ 9  5 12 12  2  1 10  1 14  9] 2399975576112\n",
      "[ 9  5 12 12  2  1 10  1 14  9] 2399975576112\n"
     ]
    }
   ],
   "source": [
    "arr1=np.random.randint(1,15,10)\n",
    "arr2=np.random.randint(1,15,10)\n",
    "arr2=arr1\n",
    "print (arr1,id(arr1))\n",
    "print(arr2,id(arr2))"
   ]
  },
  {
   "cell_type": "code",
   "execution_count": 29,
   "id": "4fe556cb",
   "metadata": {},
   "outputs": [],
   "source": [
    "#arr.max()   ,   arr.min( )      , arr.sum()"
   ]
  },
  {
   "cell_type": "code",
   "execution_count": 30,
   "id": "f5051694",
   "metadata": {},
   "outputs": [
    {
     "name": "stdout",
     "output_type": "stream",
     "text": [
      "[[7 3 6 4]\n",
      " [9 1 3 4]\n",
      " [1 6 8 6]]\n",
      "____________________\n",
      "MAX :  9\n",
      "MIN :  1\n",
      "Total : 58\n",
      "____________________\n"
     ]
    }
   ],
   "source": [
    "arr=np.random.randint(1,10,(3,4))\n",
    "print(arr)\n",
    "print(\"_\"*20)\n",
    "print(\"MAX : \",arr.max())\n",
    "print(\"MIN : \",arr.min())\n",
    "print(\"Total :\",arr.sum())\n",
    "print(\"_\"*20)\n"
   ]
  },
  {
   "cell_type": "code",
   "execution_count": 31,
   "id": "6e20d275",
   "metadata": {},
   "outputs": [],
   "source": [
    "#For Coloumn"
   ]
  },
  {
   "cell_type": "code",
   "execution_count": 32,
   "id": "1d80a514",
   "metadata": {},
   "outputs": [
    {
     "name": "stdout",
     "output_type": "stream",
     "text": [
      "MAX :  [9 6 8 6]\n",
      "MIN :  [1 1 3 4]\n",
      "Total : [17 10 17 14]\n"
     ]
    }
   ],
   "source": [
    "print(\"MAX : \",arr.max(axis=0))\n",
    "print(\"MIN : \",arr.min(axis=0))\n",
    "print(\"Total :\",arr.sum(axis=0))"
   ]
  },
  {
   "cell_type": "code",
   "execution_count": 33,
   "id": "15d28e20",
   "metadata": {},
   "outputs": [],
   "source": [
    "#For Rows"
   ]
  },
  {
   "cell_type": "code",
   "execution_count": 34,
   "id": "2eb86081",
   "metadata": {},
   "outputs": [
    {
     "name": "stdout",
     "output_type": "stream",
     "text": [
      "MAX :  [7 9 8]\n",
      "MIN :  [3 1 1]\n",
      "Total : [20 17 21]\n"
     ]
    }
   ],
   "source": [
    "print(\"MAX : \",arr.max(axis=1))\n",
    "print(\"MIN : \",arr.min(axis=1))\n",
    "print(\"Total :\",arr.sum(axis=1))"
   ]
  },
  {
   "cell_type": "code",
   "execution_count": 35,
   "id": "3b0f5d94",
   "metadata": {},
   "outputs": [],
   "source": [
    "#Seed Function   -> ones we get the Random Number it will not change "
   ]
  },
  {
   "cell_type": "code",
   "execution_count": 36,
   "id": "bc437814",
   "metadata": {},
   "outputs": [
    {
     "name": "stdout",
     "output_type": "stream",
     "text": [
      "[[11  9 10  4  9]\n",
      " [ 9  1  6 14  4]\n",
      " [11 12 10 10 11]]\n"
     ]
    }
   ],
   "source": [
    "np.random.seed(3)\n",
    "arr=np.random.randint(1,15,(3,5))\n",
    "print(arr)"
   ]
  },
  {
   "cell_type": "raw",
   "id": "d426d234",
   "metadata": {},
   "source": [
    "# Sorting Function\n",
    "Sorting Function\n",
    "numpy.sort() : This function returns a sorted copy of an array.\n",
    "\n",
    "Parameters :\n",
    "\n",
    "arr : Array to be sorted.\n",
    "axis : Axis along which we need array to be started.\n",
    "order : This argument specifies which fields to compare first.\n",
    "kind : [‘quicksort’{default}, ‘mergesort’, ‘heapsort’]Sorting algorithm.\n",
    "np.random.seed(3)"
   ]
  },
  {
   "cell_type": "code",
   "execution_count": 37,
   "id": "de2c3c61",
   "metadata": {},
   "outputs": [
    {
     "name": "stdout",
     "output_type": "stream",
     "text": [
      "[[9 4 9 9]\n",
      " [1 6 4 6]\n",
      " [8 7 1 5]]\n",
      "--------------------\n",
      "[[1 4 1 5]\n",
      " [8 6 4 6]\n",
      " [9 7 9 9]]\n",
      "--------------------\n",
      "[[4 9 9 9]\n",
      " [1 4 6 6]\n",
      " [1 5 7 8]]\n",
      "--------------------\n",
      "[1 1 4 4 5 6 6 7 8 9 9 9]\n"
     ]
    }
   ],
   "source": [
    "np.random.seed(3)\n",
    "arr=np.random.randint(1,10,(3,4))\n",
    "print(arr)\n",
    "print('-'*20)\n",
    "print(np.sort(arr,axis=0,kind=\"quicksort\"))\n",
    "print('-'*20)\n",
    "print(np.sort(arr, axis = 1))\n",
    "print('-'*20)\n",
    "m=print(np.sort(arr.flatten()))"
   ]
  },
  {
   "cell_type": "code",
   "execution_count": 38,
   "id": "2a898202",
   "metadata": {},
   "outputs": [
    {
     "name": "stdout",
     "output_type": "stream",
     "text": [
      "3\n"
     ]
    }
   ],
   "source": [
    "print(len(arr))"
   ]
  },
  {
   "cell_type": "code",
   "execution_count": 39,
   "id": "a35655b3",
   "metadata": {},
   "outputs": [
    {
     "name": "stdout",
     "output_type": "stream",
     "text": [
      "3\n",
      "3\n",
      "3\n"
     ]
    }
   ],
   "source": [
    "for i in arr:\n",
    "    print (len(i[1:]))"
   ]
  },
  {
   "cell_type": "code",
   "execution_count": 40,
   "id": "275a1bd1",
   "metadata": {},
   "outputs": [],
   "source": [
    "m=np.sort(arr,axis=1,kind='mergesort')"
   ]
  },
  {
   "cell_type": "code",
   "execution_count": 41,
   "id": "47932f57",
   "metadata": {},
   "outputs": [
    {
     "name": "stdout",
     "output_type": "stream",
     "text": [
      "[[4 9 9 9]\n",
      " [1 4 6 6]\n",
      " [1 5 7 8]]\n"
     ]
    }
   ],
   "source": [
    "print(m)"
   ]
  },
  {
   "cell_type": "code",
   "execution_count": 42,
   "id": "a1cc93c7",
   "metadata": {},
   "outputs": [
    {
     "name": "stdout",
     "output_type": "stream",
     "text": [
      "<class 'numpy.ndarray'>\n"
     ]
    }
   ],
   "source": [
    "print(type(m))"
   ]
  },
  {
   "cell_type": "markdown",
   "id": "bad4926d",
   "metadata": {},
   "source": [
    "# Mathematical Operations"
   ]
  },
  {
   "cell_type": "markdown",
   "id": "0bc0b13c",
   "metadata": {},
   "source": [
    "# ***a) Addition***"
   ]
  },
  {
   "cell_type": "code",
   "execution_count": 43,
   "id": "4e1afa1c",
   "metadata": {},
   "outputs": [
    {
     "name": "stdout",
     "output_type": "stream",
     "text": [
      "[[11  8  6  2]\n",
      " [ 9  8  9  3]\n",
      " [10 11 13  8]\n",
      " [14  8  8 10]]\n",
      "--------------------\n",
      "[[12  9  7  3]\n",
      " [10  9 10  4]\n",
      " [11 12 14  9]\n",
      " [15  9  9 11]]\n"
     ]
    }
   ],
   "source": [
    "np.random.seed(4)\n",
    "add=np.random.randint(1,15,(4,4))\n",
    "print(add)\n",
    "print('-'*20)\n",
    "print(add+1)"
   ]
  },
  {
   "cell_type": "code",
   "execution_count": 44,
   "id": "eea6f153",
   "metadata": {},
   "outputs": [],
   "source": [
    "#Subtraction"
   ]
  },
  {
   "cell_type": "code",
   "execution_count": 45,
   "id": "fa065f57",
   "metadata": {},
   "outputs": [
    {
     "name": "stdout",
     "output_type": "stream",
     "text": [
      "[[11  8  6  2]\n",
      " [ 9  8  9  3]\n",
      " [10 11 13  8]\n",
      " [14  8  8 10]]\n",
      "--------------------\n",
      "[[10  7  5  1]\n",
      " [ 8  7  8  2]\n",
      " [ 9 10 12  7]\n",
      " [13  7  7  9]]\n"
     ]
    }
   ],
   "source": [
    "np.random.seed(4)\n",
    "sub=np.random.randint(1,15,(4,4))\n",
    "print(sub)\n",
    "print('-'*20)\n",
    "print(sub-1)"
   ]
  },
  {
   "cell_type": "code",
   "execution_count": 46,
   "id": "7a336cfa",
   "metadata": {},
   "outputs": [],
   "source": [
    "#Multiplication"
   ]
  },
  {
   "cell_type": "code",
   "execution_count": 47,
   "id": "f03a1e56",
   "metadata": {},
   "outputs": [
    {
     "name": "stdout",
     "output_type": "stream",
     "text": [
      "[[11  8  6  2]\n",
      " [ 9  8  9  3]\n",
      " [10 11 13  8]\n",
      " [14  8  8 10]]\n",
      "--------------------\n",
      "[[22 16 12  4]\n",
      " [18 16 18  6]\n",
      " [20 22 26 16]\n",
      " [28 16 16 20]]\n"
     ]
    }
   ],
   "source": [
    "np.random.seed(4)\n",
    "multi=np.random.randint(1,15,(4,4))\n",
    "print(multi)\n",
    "print('-'*20)\n",
    "print(multi*2)"
   ]
  },
  {
   "cell_type": "code",
   "execution_count": 48,
   "id": "37157831",
   "metadata": {},
   "outputs": [],
   "source": [
    "#Division"
   ]
  },
  {
   "cell_type": "code",
   "execution_count": 49,
   "id": "9ab1a062",
   "metadata": {},
   "outputs": [
    {
     "name": "stdout",
     "output_type": "stream",
     "text": [
      "[[11  8  6  2]\n",
      " [ 9  8  9  3]\n",
      " [10 11 13  8]\n",
      " [14  8  8 10]]\n",
      "--------------------\n",
      "[[1 0 0 0]\n",
      " [0 0 0 0]\n",
      " [0 1 1 0]\n",
      " [1 0 0 0]]\n"
     ]
    }
   ],
   "source": [
    "np.random.seed(4)\n",
    "dvid=np.random.randint(1,15,(4,4))\n",
    "print(dvid)\n",
    "print('-'*20)\n",
    "print(dvid//11)"
   ]
  },
  {
   "cell_type": "code",
   "execution_count": 50,
   "id": "55215a81",
   "metadata": {},
   "outputs": [],
   "source": [
    "#Modulus"
   ]
  },
  {
   "cell_type": "code",
   "execution_count": 51,
   "id": "de1f8f5e",
   "metadata": {},
   "outputs": [
    {
     "name": "stdout",
     "output_type": "stream",
     "text": [
      "[[11  8  6  2]\n",
      " [ 9  8  9  3]\n",
      " [10 11 13  8]\n",
      " [14  8  8 10]]\n",
      "--------------------\n",
      "[[1 0 0 0]\n",
      " [1 0 1 1]\n",
      " [0 1 1 0]\n",
      " [0 0 0 0]]\n"
     ]
    }
   ],
   "source": [
    "np.random.seed(4)\n",
    "ab=np.random.randint(1,15,(4,4))\n",
    "print(ab)\n",
    "print('-'*20)\n",
    "print(add%2)"
   ]
  },
  {
   "cell_type": "code",
   "execution_count": 52,
   "id": "80f017b4",
   "metadata": {},
   "outputs": [],
   "source": [
    "#matrix multiplication"
   ]
  },
  {
   "cell_type": "code",
   "execution_count": 53,
   "id": "6a0afa33",
   "metadata": {},
   "outputs": [
    {
     "name": "stdout",
     "output_type": "stream",
     "text": [
      "[[ 25  78]\n",
      " [ 45 108]]\n",
      "--------------------\n",
      "[[63 58]\n",
      " [90 70]]\n"
     ]
    }
   ],
   "source": [
    "np.random.seed(3)\n",
    "m1=np.random.randint(1,10,(2,2))\n",
    "m2=np.random.randint(1,10,(2,2))\n",
    "print(m1.dot(m2))\n",
    "print('-'*20)\n",
    "print(m2@m1)"
   ]
  },
  {
   "cell_type": "code",
   "execution_count": 54,
   "id": "b3ac69b2",
   "metadata": {},
   "outputs": [],
   "source": [
    "#power"
   ]
  },
  {
   "cell_type": "code",
   "execution_count": 55,
   "id": "a95ce037",
   "metadata": {},
   "outputs": [
    {
     "name": "stdout",
     "output_type": "stream",
     "text": [
      "[[9 4]\n",
      " [9 9]]\n",
      "--------------------\n",
      "[[81 16]\n",
      " [81 81]]\n"
     ]
    }
   ],
   "source": [
    "print(m1)\n",
    "print('-'*20)\n",
    "print(m1**2)"
   ]
  },
  {
   "cell_type": "markdown",
   "id": "e15faf0a",
   "metadata": {},
   "source": [
    "# 22. Mean, Variance and Standard deviation\n",
    "In NumPy, we can compute the mean, standard deviation, and variance of a given array along the second axis by two approaches first is by using inbuilt functions and second is by the formulas of the mean, standard deviation, and variance.\n",
    "\n",
    "Using numpy.mean(), numpy.std(), numpy.var()\n",
    "\n"
   ]
  },
  {
   "cell_type": "code",
   "execution_count": 56,
   "id": "ffd352b7",
   "metadata": {},
   "outputs": [
    {
     "name": "stdout",
     "output_type": "stream",
     "text": [
      "[8 7 1 5 8 9 2 7 3 3]\n",
      "5.3\n",
      "7.409999999999999\n",
      "2.72213151776324\n"
     ]
    }
   ],
   "source": [
    "arr=np.random.randint(1,10,10)\n",
    "print(arr)\n",
    "print(arr.mean())\n",
    "print(arr.var())\n",
    "print(arr.std())"
   ]
  },
  {
   "cell_type": "markdown",
   "id": "340e8e50",
   "metadata": {},
   "source": [
    "# 23. Filtering an numpy array"
   ]
  },
  {
   "cell_type": "code",
   "execution_count": 57,
   "id": "669da163",
   "metadata": {},
   "outputs": [
    {
     "name": "stdout",
     "output_type": "stream",
     "text": [
      "[8 7 1 5 8 9 2 7 3 3]\n",
      "[False False  True False False False  True False  True  True]\n",
      "[1 2 3 3]\n"
     ]
    }
   ],
   "source": [
    "arrr=np.arange(1,10)\n",
    "print(arr)\n",
    "print(arr<5)\n",
    "print(arr[arr<5])"
   ]
  },
  {
   "cell_type": "code",
   "execution_count": 58,
   "id": "2ba298aa",
   "metadata": {},
   "outputs": [
    {
     "name": "stdout",
     "output_type": "stream",
     "text": [
      "[1 2 3 3]\n"
     ]
    }
   ],
   "source": [
    "arr2=arr[arr<5]\n",
    "print(arr2)"
   ]
  },
  {
   "cell_type": "code",
   "execution_count": 59,
   "id": "135b1fac",
   "metadata": {},
   "outputs": [
    {
     "name": "stdout",
     "output_type": "stream",
     "text": [
      "10\n"
     ]
    }
   ],
   "source": [
    "arr3=arr[arr>5]=10\n",
    "print(arr3)\n"
   ]
  },
  {
   "cell_type": "markdown",
   "id": "f6c6eb70",
   "metadata": {},
   "source": [
    "# **24.Where Function**"
   ]
  },
  {
   "cell_type": "markdown",
   "id": "160137a6",
   "metadata": {},
   "source": [
    "The numpy.where() function returns the indices of elements in an input array where the given condition is satisfied.\n",
    "\n",
    "Syntax :numpy.where(condition[, x, y]) Parameters: condition : When True, yield x, otherwise yield y. x, y : Values from which to choose. x, y and condition need to be broadcastable to some shape.\n",
    "\n",
    "Returns: out : [ndarray or tuple of ndarrays] If both x and y are specified, the output array contains elements of x where condition is True, and elements from y elsewhere.\n",
    "\n",
    "If only condition is given, return the tuple condition.nonzero(), the indices where condition is True"
   ]
  },
  {
   "cell_type": "code",
   "execution_count": 63,
   "id": "f124910f",
   "metadata": {},
   "outputs": [
    {
     "data": {
      "text/plain": [
       "array([[9, 4, 9, 9],\n",
       "       [1, 6, 4, 6],\n",
       "       [8, 7, 1, 5],\n",
       "       [8, 9, 2, 7]])"
      ]
     },
     "execution_count": 63,
     "metadata": {},
     "output_type": "execute_result"
    }
   ],
   "source": [
    "np.random.seed(3)\n",
    "arr1=np.random.randint(1,10,(4,4))\n",
    "print(arr1)"
   ]
  },
  {
   "cell_type": "code",
   "execution_count": 65,
   "id": "abd770ae",
   "metadata": {},
   "outputs": [
    {
     "name": "stdout",
     "output_type": "stream",
     "text": [
      "[['odd' 'even' 'odd' 'odd']\n",
      " ['odd' 'even' 'even' 'even']\n",
      " ['even' 'odd' 'odd' 'odd']\n",
      " ['even' 'odd' 'even' 'odd']]\n"
     ]
    }
   ],
   "source": [
    "con=np.where(arr1%2==0,'even','odd')\n",
    "print (con)"
   ]
  },
  {
   "cell_type": "code",
   "execution_count": 67,
   "id": "aac96200",
   "metadata": {},
   "outputs": [
    {
     "name": "stdout",
     "output_type": "stream",
     "text": [
      "['odd' 'even' 'odd' 'odd' 'odd' 'even' 'even' 'even' 'even' 'odd' 'odd'\n",
      " 'odd' 'even' 'odd' 'even' 'odd']\n"
     ]
    }
   ],
   "source": [
    "con=con.flatten()\n",
    "print(con)"
   ]
  },
  {
   "cell_type": "code",
   "execution_count": 70,
   "id": "afec5cf7",
   "metadata": {},
   "outputs": [
    {
     "name": "stdout",
     "output_type": "stream",
     "text": [
      "<class 'numpy.ndarray'>\n"
     ]
    }
   ],
   "source": [
    "len(con)\n",
    "print(type(con))"
   ]
  },
  {
   "cell_type": "markdown",
   "id": "0dd6a485",
   "metadata": {},
   "source": [
    "# **26. Merging Arrays**"
   ]
  },
  {
   "cell_type": "markdown",
   "id": "a8a6a6f9",
   "metadata": {},
   "source": [
    "a) Concatenate\n",
    "\n",
    "We can perform the concatenation operation using the concatenate() function. With this function, arrays are concatenated either row-wise or column-wise, given that they have equal rows or columns respectively. Column-wise concatenation can be done by equating axis to 1 as an argument in the function."
   ]
  },
  {
   "cell_type": "code",
   "execution_count": 82,
   "id": "15aa0cdf",
   "metadata": {},
   "outputs": [
    {
     "name": "stdout",
     "output_type": "stream",
     "text": [
      "Array 1 : [[ 1  2  8  1]\n",
      " [ 4 15  6 13]\n",
      " [12  2 16  4]\n",
      " [ 7 15 16 15]]\n",
      "----------------------------------------\n",
      "Array 1 : [[12  6 16 17]\n",
      " [ 3  2  7 19]\n",
      " [19 13 18  5]\n",
      " [ 8 11  4 18]]\n",
      "---------concatenate--------\n"
     ]
    }
   ],
   "source": [
    "arr1=np.random.randint(1,20,(4,4))\n",
    "print(\"Array 1 :\",arr1)\n",
    "print(\"--\"*20)\n",
    "arr2=np.random.randint(1,20,(4,4))\n",
    "print(\"Array 1 :\",arr2)\n",
    "print(\"---------concatenate--------\"*1)"
   ]
  },
  {
   "cell_type": "code",
   "execution_count": 84,
   "id": "fa8ded4c",
   "metadata": {},
   "outputs": [
    {
     "name": "stdout",
     "output_type": "stream",
     "text": [
      "---------concatenate Row Wise--------\n",
      "[[ 1  2  8  1]\n",
      " [ 4 15  6 13]\n",
      " [12  2 16  4]\n",
      " [ 7 15 16 15]\n",
      " [12  6 16 17]\n",
      " [ 3  2  7 19]\n",
      " [19 13 18  5]\n",
      " [ 8 11  4 18]]\n",
      "---------concatenate Column Wise--------\n",
      "[[ 1  2  8  1 12  6 16 17]\n",
      " [ 4 15  6 13  3  2  7 19]\n",
      " [12  2 16  4 19 13 18  5]\n",
      " [ 7 15 16 15  8 11  4 18]]\n"
     ]
    }
   ],
   "source": [
    "print(\"---------concatenate Row Wise--------\"*1)\n",
    "con=np.concatenate((arr1,arr2),axis=0)\n",
    "print(con)\n",
    "print(\"---------concatenate Column Wise--------\"*1)\n",
    "con1=np.concatenate((arr1,arr2),axis=1)\n",
    "print(con1)"
   ]
  },
  {
   "cell_type": "markdown",
   "id": "777d2c36",
   "metadata": {},
   "source": [
    "# b) Vstack and Hstack\n",
    "numpy.hstack() function is used to stack the sequence of input arrays horizontally (i.e. column wise) to make a single array."
   ]
  },
  {
   "cell_type": "code",
   "execution_count": 91,
   "id": "caefa4a6",
   "metadata": {},
   "outputs": [
    {
     "name": "stdout",
     "output_type": "stream",
     "text": [
      "----Array 1----\n",
      "[[ 9 19  7 10]\n",
      " [19 12  2 13]\n",
      " [19  1 16 12]\n",
      " [ 9  2 19  3]]\n",
      "----Array2-----\n",
      "[[12  2  6  9]\n",
      " [11  4  5  7]\n",
      " [ 3  7  5  2]\n",
      " [11  8 13  2]]\n",
      "----Vstack-----\n",
      "[[ 9 19  7 10]\n",
      " [19 12  2 13]\n",
      " [19  1 16 12]\n",
      " [ 9  2 19  3]\n",
      " [12  2  6  9]\n",
      " [11  4  5  7]\n",
      " [ 3  7  5  2]\n",
      " [11  8 13  2]]\n",
      "----Hstack-----\n",
      "[[ 9 19  7 10 12  2  6  9]\n",
      " [19 12  2 13 11  4  5  7]\n",
      " [19  1 16 12  3  7  5  2]\n",
      " [ 9  2 19  3 11  8 13  2]]\n"
     ]
    }
   ],
   "source": [
    "ar=np.random.randint(1,20,(4,4))\n",
    "ar2=np.random.randint(1,20,(4,4))\n",
    "print(\"----Array 1----\")\n",
    "print(ar)\n",
    "print(\"----Array2-----\")\n",
    "print(ar2)\n",
    "print(\"----Vstack-----\")\n",
    "ver=np.vstack((ar,ar2))\n",
    "print(ver)\n",
    "print(\"----Hstack-----\")\n",
    "hor=np.hstack((ar,ar2))\n",
    "print(hor)"
   ]
  },
  {
   "cell_type": "markdown",
   "id": "65a1f357",
   "metadata": {},
   "source": [
    "# 27. Splitting Arrays"
   ]
  },
  {
   "cell_type": "code",
   "execution_count": 92,
   "id": "414c292e",
   "metadata": {},
   "outputs": [
    {
     "name": "stdout",
     "output_type": "stream",
     "text": [
      "[[12  1  4 10]\n",
      " [ 7  1 10 12]\n",
      " [ 7  2 13  1]\n",
      " [ 3 14  1  2]]\n"
     ]
    }
   ],
   "source": [
    "spl=np.random.randint(1,15,(4,4))\n",
    "print(spl)\n"
   ]
  },
  {
   "cell_type": "code",
   "execution_count": 96,
   "id": "ea06095b",
   "metadata": {},
   "outputs": [
    {
     "name": "stdout",
     "output_type": "stream",
     "text": [
      "---------------------Vsplit------------------\n",
      "[array([[12,  1,  4, 10],\n",
      "       [ 7,  1, 10, 12]]), array([[ 7,  2, 13,  1],\n",
      "       [ 3, 14,  1,  2]])]\n",
      "\n",
      "\n",
      "---------------------hsplit------------------\n",
      "[array([[12,  1],\n",
      "       [ 7,  1],\n",
      "       [ 7,  2],\n",
      "       [ 3, 14]]), array([[ 4, 10],\n",
      "       [10, 12],\n",
      "       [13,  1],\n",
      "       [ 1,  2]])]\n"
     ]
    }
   ],
   "source": [
    "print(\"---------------------Vsplit------------------\")\n",
    "vspl=np.vsplit(spl,2)\n",
    "print(vspl)\n",
    "print('\\n')\n",
    "print(\"---------------------hsplit------------------\")\n",
    "hopl=np.hsplit(spl,2)\n",
    "print(hopl)"
   ]
  },
  {
   "cell_type": "markdown",
   "id": "e6d9d0ce",
   "metadata": {},
   "source": [
    "# 28. Turning Pics into Numpy arrays"
   ]
  },
  {
   "cell_type": "markdown",
   "id": "055a1038",
   "metadata": {},
   "source": [
    "Nupmpy Image Import\n"
   ]
  },
  {
   "cell_type": "code",
   "execution_count": 108,
   "id": "c87161c7",
   "metadata": {},
   "outputs": [
    {
     "name": "stdout",
     "output_type": "stream",
     "text": [
      "<PIL.PngImagePlugin.PngImageFile image mode=RGBA size=3032x2415 at 0x22ECAF3B3D0>\n"
     ]
    },
    {
     "data": {
      "text/plain": [
       "(2415, 3032, 4)"
      ]
     },
     "execution_count": 108,
     "metadata": {},
     "output_type": "execute_result"
    }
   ],
   "source": [
    "from PIL import Image\n",
    "image = Image.open('Zoro.png')\n",
    "print(image)\n",
    "from matplotlib.image import imread\n",
    "img= imread('Zoro.png')\n",
    "img.shape"
   ]
  },
  {
   "cell_type": "code",
   "execution_count": null,
   "id": "cdaf229e",
   "metadata": {},
   "outputs": [],
   "source": []
  }
 ],
 "metadata": {
  "kernelspec": {
   "display_name": "Python 3 (ipykernel)",
   "language": "python",
   "name": "python3"
  },
  "language_info": {
   "codemirror_mode": {
    "name": "ipython",
    "version": 3
   },
   "file_extension": ".py",
   "mimetype": "text/x-python",
   "name": "python",
   "nbconvert_exporter": "python",
   "pygments_lexer": "ipython3",
   "version": "3.11.1"
  }
 },
 "nbformat": 4,
 "nbformat_minor": 5
}
